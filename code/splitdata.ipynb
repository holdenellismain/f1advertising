{
 "cells": [
  {
   "cell_type": "markdown",
   "id": "fb1f680c",
   "metadata": {},
   "source": [
    "This program splits and balances the data into the format expected by PyTorch ImageFolder"
   ]
  },
  {
   "cell_type": "markdown",
   "id": "dad69738",
   "metadata": {},
   "source": [
    "This code moves all images into a temporary folder and renames them"
   ]
  },
  {
   "cell_type": "code",
   "execution_count": null,
   "id": "9b228b48",
   "metadata": {},
   "outputs": [],
   "source": [
    "import os\n",
    "import random\n",
    "import shutil\n",
    "\n",
    "source_dir = 'C:/Users/fires/Downloads/By Track'  # path to folder of all lableled frames, should contain a folders for each race\n",
    "\n",
    "output_dir = 'C:/Users/fires/Downloads/AllFrames' # temporary folder\n",
    "os.makedirs(output_dir, exist_ok=True)\n",
    "\n",
    "# Traverse the ByTrack folder\n",
    "for track_folder in os.listdir(source_dir):\n",
    "    track_path = os.path.join(source_dir, track_folder)\n",
    "    \n",
    "    # Check if it's a directory and matches expected structure\n",
    "    if os.path.isdir(track_path):\n",
    "        label_folder = os.path.join(track_path, 'labeled_frames')\n",
    "        if os.path.isdir(label_folder):\n",
    "            for file in os.listdir(label_folder):\n",
    "                if file.endswith('.jpg'):\n",
    "                    src_path = os.path.join(label_folder, file)\n",
    "                    \n",
    "                    # Extract track name (strip digits and year if needed)\n",
    "                    track_name = ''.join([c for c in track_folder if not c.isdigit()])\n",
    "                    new_filename = f\"{track_name}_{file}\"\n",
    "                    # recategorize no car and distant into the same category\n",
    "                    if \"no car\" in new_filename:\n",
    "                        new_filename = new_filename.replace(\"no car\", \"distantORnocar\", 1)\n",
    "                    elif \"distant\" in new_filename:\n",
    "                        new_filename = new_filename.replace(\"distant\", \"distantORnocar\", 1)\n",
    "                    dst_path = os.path.join(output_dir, new_filename)\n",
    "\n",
    "                    # Copy to temporary folder\n",
    "                    shutil.copy2(src_path, dst_path)\n",
    "                    print(f\"Moved: {src_path} → {dst_path}\")"
   ]
  },
  {
   "cell_type": "markdown",
   "id": "37d20784",
   "metadata": {},
   "source": [
    "This cell separates into test/train/val folders (70/15/15) as expected by ImageFolder"
   ]
  },
  {
   "cell_type": "code",
   "execution_count": null,
   "id": "cf331070",
   "metadata": {},
   "outputs": [
    {
     "name": "stdout",
     "output_type": "stream",
     "text": [
      "Category 'front': 814 train, 174 validation, 175 test\n",
      "Category 'inside': 604 train, 129 validation, 130 test\n",
      "Category 'side': 396 train, 85 validation, 86 test\n",
      "Category 'rear': 287 train, 61 validation, 62 test\n",
      "Category 'distantORnocar': 976 train, 209 validation, 210 test\n",
      "Done.\n"
     ]
    }
   ],
   "source": [
    "# This code chunk is use to split all data, assumes all image in one single folder in the \"source_dir\" (temporary folder from previous block)\n",
    "source_dir = output_dir\n",
    "\n",
    "# Target base directory for split\n",
    "train_base = os.path.join(source_dir, 'train')\n",
    "val_base = os.path.join(source_dir, 'val')\n",
    "test_base = os.path.join(source_dir, 'test')\n",
    "\n",
    "# Categories to look for in filenames\n",
    "categories = [\"front\", \"inside\", \"side\", \"rear\" , \"distantORnocar\"]\n",
    "\n",
    "# Set random seed for reproducibility\n",
    "random.seed(14052025)\n",
    "\n",
    "# Ensure train and test subfolders exist\n",
    "for category in categories:\n",
    "    os.makedirs(os.path.join(train_base, category), exist_ok=True)\n",
    "    os.makedirs(os.path.join(val_base, category), exist_ok=True)\n",
    "    os.makedirs(os.path.join(test_base, category), exist_ok=True)\n",
    "\n",
    "# Process each category\n",
    "for category in categories:\n",
    "    # Filter files containing the category name\n",
    "    matching_files = [f for f in os.listdir(source_dir)\n",
    "                      if category in f and f.lower().endswith(('.jpg', '.jpeg', '.png'))]\n",
    "\n",
    "    # Shuffle and split\n",
    "    random.shuffle(matching_files)\n",
    "    n_train = int(len(matching_files) * 0.7)\n",
    "    n_val = int(len(matching_files) * 0.15)\n",
    "    train_files = matching_files[:n_train]\n",
    "    val_files = matching_files[n_train:n_train+n_val]\n",
    "    test_files = matching_files[n_train+n_val:]\n",
    "\n",
    "    # Move files to appropriate folders\n",
    "    for f in train_files:\n",
    "        shutil.move(os.path.join(source_dir, f), os.path.join(train_base, category, f))\n",
    "    for f in val_files:\n",
    "        shutil.move(os.path.join(source_dir, f), os.path.join(val_base, category, f))\n",
    "    for f in test_files:\n",
    "        shutil.move(os.path.join(source_dir, f), os.path.join(test_base, category, f))\n",
    "\n",
    "    print(f\"Category '{category}': {len(train_files)} train, {len(val_files)} validation, {len(test_files)} test\")\n",
    "\n",
    "print(\"Done.\")\n"
   ]
  },
  {
   "cell_type": "markdown",
   "id": "3e509b8a",
   "metadata": {},
   "source": [
    "This cell balances the training data by category"
   ]
  },
  {
   "cell_type": "code",
   "execution_count": 3,
   "id": "15f3a8e9",
   "metadata": {},
   "outputs": [
    {
     "name": "stdout",
     "output_type": "stream",
     "text": [
      "Balanced dataset created.\n"
     ]
    }
   ],
   "source": [
    "import os\n",
    "import random\n",
    "import shutil\n",
    "\n",
    "balanced_dir = 'C:/Users/fires/Downloads/BalancedData' # path to output folder for balanced data\n",
    "\n",
    "splits = ['train', 'val', 'test']\n",
    "categories = [\"front\", \"inside\", \"side\", \"rear\" , \"distantORnocar\"]\n",
    "\n",
    "# Set random seed for reproducibility\n",
    "random.seed(21052025)\n",
    "\n",
    "# Ensure Balanced Data directories exist\n",
    "for split in splits:\n",
    "    split_dir = os.path.join(output_dir, split)\n",
    "    for category in categories:\n",
    "        os.makedirs(os.path.join(balanced_dir, split, category), exist_ok=True)\n",
    "\n",
    "    # Get the number of images in each category\n",
    "    category_counts = {}\n",
    "    for category in categories:\n",
    "        cat_path = os.path.join(split_dir, category)\n",
    "        files = [f for f in os.listdir(cat_path) if f.lower().endswith(('.jpg', '.jpeg'))]\n",
    "        category_counts[category] = len(files)\n",
    "\n",
    "    # Determine the minimum number across all categories\n",
    "    min_count = min(category_counts.values())\n",
    "\n",
    "    # randomly select min_count images for the training set and copy\n",
    "    for category in categories:\n",
    "        src_path = os.path.join(split_dir, category)\n",
    "        dst_path = os.path.join(balanced_dir, split, category)\n",
    "        files = [f for f in os.listdir(src_path) if f.lower().endswith(('.jpg', '.jpeg'))]\n",
    "        selected_files = []\n",
    "        if split == 'train': \n",
    "            selected_files = random.sample(files, min_count)\n",
    "        else:\n",
    "            selected_files = files\n",
    "\n",
    "        for f in selected_files:\n",
    "            shutil.copy2(os.path.join(src_path, f), os.path.join(dst_path, f))\n",
    "\n",
    "print(\"Balanced dataset created.\")"
   ]
  }
 ],
 "metadata": {
  "kernelspec": {
   "display_name": "ds-env",
   "language": "python",
   "name": "python3"
  },
  "language_info": {
   "codemirror_mode": {
    "name": "ipython",
    "version": 3
   },
   "file_extension": ".py",
   "mimetype": "text/x-python",
   "name": "python",
   "nbconvert_exporter": "python",
   "pygments_lexer": "ipython3",
   "version": "3.12.9"
  }
 },
 "nbformat": 4,
 "nbformat_minor": 5
}
