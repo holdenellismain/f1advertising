{
 "cells": [
  {
   "cell_type": "markdown",
   "id": "a52f1bde",
   "metadata": {},
   "source": [
    "This notebook tunes a the pretrained ResNet-18 for classifying the camera angle F1 cars are viewed from."
   ]
  },
  {
   "cell_type": "markdown",
   "id": "9688051d",
   "metadata": {},
   "source": [
    "This block loads in the necessary packages"
   ]
  },
  {
   "cell_type": "code",
   "execution_count": null,
   "id": "01926e51",
   "metadata": {},
   "outputs": [],
   "source": [
    "import torch\n",
    "from torchvision import datasets\n",
    "from torchvision import transforms\n",
    "from torchvision.datasets import ImageFolder\n",
    "from torch.utils.data import DataLoader\n",
    "import torch.nn as nn\n",
    "import torch.optim as optim\n",
    "import torchvision.models as models"
   ]
  },
  {
   "cell_type": "markdown",
   "id": "e9a57e73",
   "metadata": {},
   "source": [
    "This block loads in training data"
   ]
  },
  {
   "cell_type": "code",
   "execution_count": null,
   "id": "a5aecb42",
   "metadata": {},
   "outputs": [
    {
     "name": "stdout",
     "output_type": "stream",
     "text": [
      "Classes: ['distantORnocar', 'front', 'inside', 'rear', 'side']\n",
      "7175 training samples loaded\n"
     ]
    }
   ],
   "source": [
    "transform = transforms.Compose([\n",
    "    transforms.Resize((128, 128)),\n",
    "    transforms.ToTensor(),\n",
    "    transforms.Normalize(mean=(0.5,0.5,0.5), std=(0.5, 0.5, 0.5))\n",
    "])\n",
    "\n",
    "class ImageFolderWithPaths(ImageFolder):\n",
    "    # Custom dataset that extends ImageFolder to include image file paths, helps evaluate testing results\n",
    "    def __getitem__(self, index):\n",
    "        # Get original tuple: (image, label)\n",
    "        image, label = super().__getitem__(index)\n",
    "        # Get image file path\n",
    "        path = self.imgs[index][0]\n",
    "        # Return image, label, and path\n",
    "        return image, label, path\n",
    "\n",
    "# Set your paths\n",
    "data_dir = 'C:/Users/fires/Downloads/BalancedData'\n",
    "train_dir = data_dir + '/train'\n",
    "valid_dir = data_dir + '/val'\n",
    "test_dir = data_dir + '/test'\n",
    "\n",
    "train_dataset = datasets.ImageFolder(root=train_dir, transform=transform)\n",
    "valid_dataset = datasets.ImageFolder(root=valid_dir, transform=transform)\n",
    "test_dataset = ImageFolderWithPaths(root=test_dir, transform=transform)\n",
    "\n",
    "train_loader = DataLoader(train_dataset, batch_size=32, shuffle=True)\n",
    "valid_loader = DataLoader(valid_dataset, batch_size=32, shuffle=True)\n",
    "test_loader = DataLoader(test_dataset, batch_size=32, shuffle=False)\n",
    "\n",
    "# Print class names to verify \n",
    "print(\"Classes:\", train_dataset.classes)\n",
    "print(len(train_dataset), \"training samples loaded\")"
   ]
  },
  {
   "cell_type": "markdown",
   "id": "654822ff",
   "metadata": {},
   "source": [
    "Load in pretrained model and allow for modification of all weights"
   ]
  },
  {
   "cell_type": "code",
   "execution_count": null,
   "id": "29fa8c99",
   "metadata": {},
   "outputs": [
    {
     "name": "stderr",
     "output_type": "stream",
     "text": [
      "c:\\Users\\fires\\miniconda3\\envs\\ds-env\\Lib\\site-packages\\torchvision\\models\\_utils.py:208: UserWarning: The parameter 'pretrained' is deprecated since 0.13 and may be removed in the future, please use 'weights' instead.\n",
      "  warnings.warn(\n",
      "c:\\Users\\fires\\miniconda3\\envs\\ds-env\\Lib\\site-packages\\torchvision\\models\\_utils.py:223: UserWarning: Arguments other than a weight enum or `None` for 'weights' are deprecated since 0.13 and may be removed in the future. The current behavior is equivalent to passing `weights=ResNet18_Weights.IMAGENET1K_V1`. You can also use `weights=ResNet18_Weights.DEFAULT` to get the most up-to-date weights.\n",
      "  warnings.warn(msg)\n"
     ]
    }
   ],
   "source": [
    "# Load ResNet-18 pretrained on ImageNet\n",
    "model = models.resnet18(pretrained=True)\n",
    "\n",
    "# unfreeze all weights\n",
    "for param in model.parameters():\n",
    "    param.requires_grad = True\n",
    "\n",
    "# Replace the final classification layer with 5 categories\n",
    "num_classes = 5  \n",
    "model.fc = nn.Sequential(\n",
    "    nn.Linear(model.fc.in_features, 256),\n",
    "    nn.ReLU(),\n",
    "    nn.Dropout(0.5),\n",
    "    nn.Linear(256, num_classes)\n",
    ")\n",
    "\n",
    "# Unfreeze the classifier head\n",
    "for param in model.fc.parameters():\n",
    "    param.requires_grad = True\n",
    "\n",
    "# Use GPU if available\n",
    "device = torch.device('cuda' if torch.cuda.is_available() else 'cpu')\n",
    "model = model.to(device)\n"
   ]
  },
  {
   "cell_type": "markdown",
   "id": "ae6722d8",
   "metadata": {},
   "source": [
    "Model training, includes Adam Optimizer and early stopping as well as validation set metrics"
   ]
  },
  {
   "cell_type": "code",
   "execution_count": null,
   "id": "efbd0d42",
   "metadata": {},
   "outputs": [
    {
     "name": "stdout",
     "output_type": "stream",
     "text": [
      "Epoch 1: Train Loss=0.6415, Train Acc=0.7787, Val Loss=1.2705, Val Acc=0.6930\n",
      "Epoch 2: Train Loss=0.3576, Train Acc=0.8937, Val Loss=0.7003, Val Acc=0.7903\n",
      "Epoch 3: Train Loss=0.2207, Train Acc=0.9307, Val Loss=0.7691, Val Acc=0.7903\n",
      "Epoch 4: Train Loss=0.1360, Train Acc=0.9586, Val Loss=0.9956, Val Acc=0.7766\n",
      "Epoch 5: Train Loss=0.1300, Train Acc=0.9645, Val Loss=0.7316, Val Acc=0.8328\n",
      "Epoch 6: Train Loss=0.0834, Train Acc=0.9752, Val Loss=1.1321, Val Acc=0.7994\n",
      "Epoch 7: Train Loss=0.0403, Train Acc=0.9880, Val Loss=0.9846, Val Acc=0.8146\n",
      "Epoch 8: Train Loss=0.0165, Train Acc=0.9965, Val Loss=1.0761, Val Acc=0.8450\n",
      "Epoch 9: Train Loss=0.0168, Train Acc=0.9960, Val Loss=1.1293, Val Acc=0.8040\n",
      "Epoch 10: Train Loss=0.0163, Train Acc=0.9948, Val Loss=1.0911, Val Acc=0.8191\n",
      "Epoch 11: Train Loss=0.0060, Train Acc=0.9986, Val Loss=0.9970, Val Acc=0.8511\n",
      "Epoch 12: Train Loss=0.0182, Train Acc=0.9947, Val Loss=1.0369, Val Acc=0.8283\n",
      "\n",
      "Early stopping triggered at epoch 12\n"
     ]
    }
   ],
   "source": [
    "criterion = nn.CrossEntropyLoss()\n",
    "optimizer = optim.Adam(model.parameters(), weight_decay=1e-4)  # regularization\n",
    "\n",
    "# Scheduler: reduce LR if val loss plateaus\n",
    "scheduler = torch.optim.lr_scheduler.ReduceLROnPlateau(optimizer, mode='min', factor=0.5, patience=3)\n",
    "\n",
    "# Early stopping config\n",
    "early_stop_patience = 10\n",
    "min_delta = 1e-4\n",
    "best_val_loss = float('inf')\n",
    "epochs_no_improve = 0\n",
    "\n",
    "# Metrics storage\n",
    "train_losses = []\n",
    "train_accuracies = []\n",
    "val_losses = []\n",
    "val_accuracies = []\n",
    "\n",
    "num_epochs = 100  # Set high, early stopping will halt before this if needed\n",
    "\n",
    "for epoch in range(num_epochs):\n",
    "    model.train()\n",
    "    running_loss = 0.0\n",
    "    correct_train = 0\n",
    "    total_train = 0\n",
    "\n",
    "    for images, labels in train_loader:\n",
    "        images, labels = images.to(device), labels.to(device)\n",
    "\n",
    "        optimizer.zero_grad()\n",
    "        outputs = model(images)\n",
    "        loss = criterion(outputs, labels)\n",
    "        loss.backward()\n",
    "        optimizer.step()\n",
    "\n",
    "        running_loss += loss.item() * images.size(0)\n",
    "        _, preds = torch.max(outputs, 1)\n",
    "        correct_train += (preds == labels).sum().item()\n",
    "        total_train += labels.size(0)\n",
    "\n",
    "    train_loss = running_loss / total_train\n",
    "    train_accuracy = correct_train / total_train\n",
    "    train_losses.append(train_loss)\n",
    "    train_accuracies.append(train_accuracy)\n",
    "\n",
    "    # Validation\n",
    "    model.eval()\n",
    "    val_loss = 0.0\n",
    "    correct_val = 0\n",
    "    total_val = 0\n",
    "\n",
    "    with torch.no_grad():\n",
    "        for images, labels in valid_loader:\n",
    "            images, labels = images.to(device), labels.to(device)\n",
    "            outputs = model(images)\n",
    "            loss = criterion(outputs, labels)\n",
    "\n",
    "            val_loss += loss.item() * images.size(0)\n",
    "            _, preds = torch.max(outputs, 1)\n",
    "            correct_val += (preds == labels).sum().item()\n",
    "            total_val += labels.size(0)\n",
    "\n",
    "    val_loss = val_loss / total_val\n",
    "    val_accuracy = correct_val / total_val\n",
    "    val_losses.append(val_loss)\n",
    "    val_accuracies.append(val_accuracy)\n",
    "\n",
    "    print(f\"Epoch {epoch+1}: \"\n",
    "          f\"Train Loss={train_loss:.4f}, Train Acc={train_accuracy:.4f}, \"\n",
    "          f\"Val Loss={val_loss:.4f}, Val Acc={val_accuracy:.4f}\")\n",
    "\n",
    "    # Learning rate scheduler step\n",
    "    scheduler.step(val_loss)\n",
    "\n",
    "    # Early stopping\n",
    "    if val_loss + min_delta < best_val_loss:\n",
    "        best_val_loss = val_loss\n",
    "        epochs_no_improve = 0\n",
    "    else:\n",
    "        epochs_no_improve += 1\n",
    "\n",
    "    if epochs_no_improve >= early_stop_patience:\n",
    "        print(f\"\\nEarly stopping triggered at epoch {epoch+1}\")\n",
    "        break\n"
   ]
  },
  {
   "cell_type": "markdown",
   "id": "e34cf16d",
   "metadata": {},
   "source": [
    "Save the model weights to be used in other programs"
   ]
  },
  {
   "cell_type": "code",
   "execution_count": 21,
   "id": "d75a825f",
   "metadata": {},
   "outputs": [],
   "source": [
    "torch.save(model.state_dict(), 'pretrained_model_weights.pth')"
   ]
  },
  {
   "cell_type": "markdown",
   "id": "84881444",
   "metadata": {},
   "source": [
    "Confusion matrix"
   ]
  },
  {
   "cell_type": "code",
   "execution_count": null,
   "id": "8d9f1991",
   "metadata": {},
   "outputs": [],
   "source": [
    "import os\n",
    "from sklearn.metrics import confusion_matrix\n",
    "import matplotlib.pyplot as plt\n",
    "import seaborn as sns\n",
    "import pandas as pd\n",
    "\n",
    "def plot_confusion_matrix(test_loader, label_map):\n",
    "    \"\"\"\n",
    "    Evaluate a PyTorch model on a test set and plot the confusion matrix.\n",
    "    Also print accuracy by category.\n",
    "\n",
    "    Args:\n",
    "        test_loader (DataLoader): DataLoader for the test set.\n",
    "        label_map (dict): Dictionary mapping class names to label indices.\n",
    "    \"\"\"\n",
    "    all_preds = []\n",
    "    all_labels = []\n",
    "\n",
    "    model.eval()\n",
    "    with torch.no_grad():\n",
    "        for images, labels, _ in test_loader:\n",
    "            images, labels = images.to(device), labels.to(device)\n",
    "            outputs = model(images)\n",
    "            _, preds = torch.max(outputs, 1)\n",
    "            all_preds.extend(preds.cpu().numpy())\n",
    "            all_labels.extend(labels.cpu().numpy())\n",
    "\n",
    "    # Generate confusion matrix\n",
    "    cm = confusion_matrix(all_labels, all_preds)\n",
    "\n",
    "    # Create reverse label map: index → class name\n",
    "    idx_to_class = {v: k for k, v in label_map.items()}\n",
    "    class_names = [idx_to_class[i] for i in range(len(idx_to_class))]\n",
    "\n",
    "    # Plot confusion matrix\n",
    "    plt.figure(figsize=(8, 6))\n",
    "    sns.heatmap(cm, annot=True, fmt='d', cmap='Blues',\n",
    "                xticklabels=class_names,\n",
    "                yticklabels=class_names)\n",
    "    plt.xlabel('Predicted Label')\n",
    "    plt.ylabel('True Label')\n",
    "    plt.title('Confusion Matrix')\n",
    "    plt.tight_layout()\n",
    "    plt.show()\n",
    "\n",
    "    # Accuracy by category\n",
    "    df = pd.DataFrame({\"true\": all_labels, \"pred\": all_preds})\n",
    "    df[\"correct\"] = df[\"true\"] == df[\"pred\"]\n",
    "    df[\"true_label\"] = df[\"true\"].map(idx_to_class)\n",
    "\n",
    "    print(\"\\nAccuracy by category:\")\n",
    "    print(df.groupby(\"true_label\")[\"correct\"].mean())\n"
   ]
  },
  {
   "cell_type": "code",
   "execution_count": 11,
   "id": "e6a9f811",
   "metadata": {},
   "outputs": [
    {
     "data": {
      "image/png": "[encoded data removed]",
      "text/plain": [
       "<Figure size 800x600 with 2 Axes>"
      ]
     },
     "metadata": {},
     "output_type": "display_data"
    },
    {
     "name": "stdout",
     "output_type": "stream",
     "text": [
      "\n",
      "Accuracy by category:\n",
      "true_label\n",
      "distantORnocar    0.719048\n",
      "front             0.451429\n",
      "inside            0.969231\n",
      "rear              0.725806\n",
      "side              0.697674\n",
      "Name: correct, dtype: float64\n"
     ]
    }
   ],
   "source": [
    "label_map = test_dataset.class_to_idx\n",
    "plot_confusion_matrix(test_loader, label_map)"
   ]
  }
 ],
 "metadata": {
  "kernelspec": {
   "display_name": "ds-env",
   "language": "python",
   "name": "python3"
  },
  "language_info": {
   "codemirror_mode": {
    "name": "ipython",
    "version": 3
   },
   "file_extension": ".py",
   "mimetype": "text/x-python",
   "name": "python",
   "nbconvert_exporter": "python",
   "pygments_lexer": "ipython3",
   "version": "3.12.9"
  }
 },
 "nbformat": 4,
 "nbformat_minor": 5
}
